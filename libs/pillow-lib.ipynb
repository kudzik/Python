{
 "cells": [
  {
   "cell_type": "markdown",
   "id": "3ea50a6d",
   "metadata": {},
   "source": [
    "Biblioteka **Pillow** w Pythonie służy do **przetwarzania i manipulacji obrazami**. Jest to rozwinięcie i kontynuacja starszej biblioteki **PIL (Python Imaging Library)**. Oto, co możesz z nią zrobić:\n",
    "\n",
    "---\n",
    "\n",
    "### 🧰 Główne zastosowania Pillow\n",
    "\n",
    "- **Otwieranie i zapisywanie obrazów** w różnych formatach: JPEG, PNG, BMP, GIF, TIFF itd.\n",
    "- **Zmiana rozmiaru, przycinanie, obracanie i skalowanie** obrazów\n",
    "- **Konwersja między trybami kolorów** (np. RGB ↔ L, RGBA, CMYK)\n",
    "- **Rysowanie na obrazach** – linie, tekst, kształty (moduł `ImageDraw`)\n",
    "- **Nakładanie filtrów i efektów** – np. rozmycie, wyostrzenie (`ImageFilter`)\n",
    "- **Dostęp do pikseli** i ich modyfikacja\n",
    "- **Tworzenie miniatur** i optymalizacja obrazów\n",
    "- **Łączenie obrazów** (np. kolaże, nakładki, przezroczystość)\n",
    "\n",
    "---\n",
    "\n",
    "\n"
   ]
  },
  {
   "cell_type": "code",
   "execution_count": 4,
   "id": "ea847439",
   "metadata": {},
   "outputs": [],
   "source": [
    "### 📦 Przykład użycia\n",
    "\n",
    "from PIL import Image\n",
    "\n",
    "# Otwórz obraz\n",
    "img = Image.open(\"../junk/img/Python-Symbol.png\")\n",
    "\n",
    "# Zmień rozmiar\n",
    "img_resized = img.resize((300, 300))\n",
    "\n",
    "# Zapisz nowy obraz\n",
    "img_resized.save(\"../junk/img/Python-Symbol-resized.png\")"
   ]
  },
  {
   "cell_type": "markdown",
   "id": "e6a44f67",
   "metadata": {},
   "source": [
    "### 🔧 Popularne moduły w Pillow\n",
    "\n",
    "| Moduł        | Opis                                      |\n",
    "|--------------|-------------------------------------------|\n",
    "| `Image`      | Główna klasa do pracy z obrazami          |\n",
    "| `ImageDraw`  | Rysowanie na obrazach                     |\n",
    "| `ImageFont`  | Obsługa czcionek i tekstu                 |\n",
    "| `ImageFilter`| Filtry graficzne (np. BLUR, CONTOUR)      |\n",
    "| `ImageOps`   | Operacje pomocnicze (np. inwersja kolorów)|\n"
   ]
  }
 ],
 "metadata": {
  "kernelspec": {
   "display_name": "venv (3.12.3)",
   "language": "python",
   "name": "python3"
  },
  "language_info": {
   "codemirror_mode": {
    "name": "ipython",
    "version": 3
   },
   "file_extension": ".py",
   "mimetype": "text/x-python",
   "name": "python",
   "nbconvert_exporter": "python",
   "pygments_lexer": "ipython3",
   "version": "3.12.3"
  }
 },
 "nbformat": 4,
 "nbformat_minor": 5
}
