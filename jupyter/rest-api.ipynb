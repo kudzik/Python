{
  "nbformat": 4,
  "nbformat_minor": 0,
  "metadata": {
    "colab": {
      "provenance": [],
      "authorship_tag": "ABX9TyNgE+NihUNffdYK8S5WobBP",
      "include_colab_link": true
    },
    "kernelspec": {
      "name": "python3",
      "display_name": "Python 3"
    },
    "language_info": {
      "name": "python"
    }
  },
  "cells": [
    {
      "cell_type": "markdown",
      "metadata": {
        "id": "view-in-github",
        "colab_type": "text"
      },
      "source": [
        "<a href=\"https://colab.research.google.com/github/kudzik/Python/blob/main/jupyter/rest-api.ipynb\" target=\"_parent\"><img src=\"https://colab.research.google.com/assets/colab-badge.svg\" alt=\"Open In Colab\"/></a>"
      ]
    },
    {
      "cell_type": "code",
      "execution_count": 1,
      "metadata": {
        "colab": {
          "base_uri": "https://localhost:8080/"
        },
        "id": "8RQESFrZSrLj",
        "outputId": "31135266-aa17-46c3-f6a7-73c1cfb9d4ab"
      },
      "outputs": [
        {
          "output_type": "stream",
          "name": "stdout",
          "text": [
            "Luke Skywalker\n",
            "['https://swapi.dev/api/films/1/', 'https://swapi.dev/api/films/2/', 'https://swapi.dev/api/films/3/', 'https://swapi.dev/api/films/6/']\n"
          ]
        }
      ],
      "source": [
        "import requests\n",
        "\n",
        "# Swapi API\n",
        "url = \"https://swapi.dev/api/people/1/\"\n",
        "response = requests.get(url)\n",
        "data = response.json()\n",
        "# print(data)\n",
        "\n",
        "# get name from data\n",
        "name = data['name']\n",
        "print(name)\n",
        "\n",
        "# get films from data\n",
        "films = data['films']\n",
        "print(films)"
      ]
    }
  ]
}